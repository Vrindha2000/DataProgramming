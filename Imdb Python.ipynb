{
 "cells": [
  {
   "cell_type": "code",
   "execution_count": 59,
   "id": "b72ac093",
   "metadata": {},
   "outputs": [
    {
     "data": {
      "text/html": [
       "<div>\n",
       "<style scoped>\n",
       "    .dataframe tbody tr th:only-of-type {\n",
       "        vertical-align: middle;\n",
       "    }\n",
       "\n",
       "    .dataframe tbody tr th {\n",
       "        vertical-align: top;\n",
       "    }\n",
       "\n",
       "    .dataframe thead th {\n",
       "        text-align: right;\n",
       "    }\n",
       "</style>\n",
       "<table border=\"1\" class=\"dataframe\">\n",
       "  <thead>\n",
       "    <tr style=\"text-align: right;\">\n",
       "      <th></th>\n",
       "      <th>Name</th>\n",
       "      <th>Date</th>\n",
       "      <th>Rate</th>\n",
       "      <th>Votes</th>\n",
       "      <th>Genre</th>\n",
       "      <th>Duration</th>\n",
       "      <th>Type</th>\n",
       "      <th>Certificate</th>\n",
       "      <th>Episodes</th>\n",
       "      <th>Nudity</th>\n",
       "      <th>Violence</th>\n",
       "      <th>Profanity</th>\n",
       "      <th>Alcohol</th>\n",
       "      <th>Frightening</th>\n",
       "    </tr>\n",
       "  </thead>\n",
       "  <tbody>\n",
       "    <tr>\n",
       "      <th>0</th>\n",
       "      <td>No Time to Die</td>\n",
       "      <td>2021</td>\n",
       "      <td>7.6</td>\n",
       "      <td>107,163</td>\n",
       "      <td>Action, Adventure, Thriller</td>\n",
       "      <td>163</td>\n",
       "      <td>Film</td>\n",
       "      <td>PG-13</td>\n",
       "      <td>-</td>\n",
       "      <td>Mild</td>\n",
       "      <td>Moderate</td>\n",
       "      <td>Mild</td>\n",
       "      <td>Mild</td>\n",
       "      <td>Moderate</td>\n",
       "    </tr>\n",
       "    <tr>\n",
       "      <th>1</th>\n",
       "      <td>The Guilty</td>\n",
       "      <td>2021</td>\n",
       "      <td>6.3</td>\n",
       "      <td>64,375</td>\n",
       "      <td>Crime, Drama, Thriller</td>\n",
       "      <td>90</td>\n",
       "      <td>Film</td>\n",
       "      <td>R</td>\n",
       "      <td>-</td>\n",
       "      <td>None</td>\n",
       "      <td>None</td>\n",
       "      <td>Severe</td>\n",
       "      <td>None</td>\n",
       "      <td>Moderate</td>\n",
       "    </tr>\n",
       "    <tr>\n",
       "      <th>2</th>\n",
       "      <td>The Many Saints of Newark</td>\n",
       "      <td>2021</td>\n",
       "      <td>6.4</td>\n",
       "      <td>27,145</td>\n",
       "      <td>Crime, Drama</td>\n",
       "      <td>120</td>\n",
       "      <td>Film</td>\n",
       "      <td>R</td>\n",
       "      <td>-</td>\n",
       "      <td>Moderate</td>\n",
       "      <td>Severe</td>\n",
       "      <td>Severe</td>\n",
       "      <td>Moderate</td>\n",
       "      <td>Moderate</td>\n",
       "    </tr>\n",
       "    <tr>\n",
       "      <th>3</th>\n",
       "      <td>Venom: Let There Be Carnage</td>\n",
       "      <td>2021</td>\n",
       "      <td>6.4</td>\n",
       "      <td>30,443</td>\n",
       "      <td>Action, Adventure, Sci-Fi</td>\n",
       "      <td>97</td>\n",
       "      <td>Film</td>\n",
       "      <td>PG-13</td>\n",
       "      <td>-</td>\n",
       "      <td>None</td>\n",
       "      <td>Moderate</td>\n",
       "      <td>Moderate</td>\n",
       "      <td>Mild</td>\n",
       "      <td>Moderate</td>\n",
       "    </tr>\n",
       "    <tr>\n",
       "      <th>4</th>\n",
       "      <td>Dune</td>\n",
       "      <td>2021</td>\n",
       "      <td>8.3</td>\n",
       "      <td>84,636</td>\n",
       "      <td>Action, Adventure, Drama</td>\n",
       "      <td>155</td>\n",
       "      <td>Film</td>\n",
       "      <td>PG-13</td>\n",
       "      <td>-</td>\n",
       "      <td>None</td>\n",
       "      <td>Moderate</td>\n",
       "      <td>None</td>\n",
       "      <td>Mild</td>\n",
       "      <td>Moderate</td>\n",
       "    </tr>\n",
       "  </tbody>\n",
       "</table>\n",
       "</div>"
      ],
      "text/plain": [
       "                          Name  Date Rate    Votes  \\\n",
       "0               No Time to Die  2021  7.6  107,163   \n",
       "1                   The Guilty  2021  6.3   64,375   \n",
       "2    The Many Saints of Newark  2021  6.4   27,145   \n",
       "3  Venom: Let There Be Carnage  2021  6.4   30,443   \n",
       "4                         Dune  2021  8.3   84,636   \n",
       "\n",
       "                         Genre Duration  Type Certificate Episodes    Nudity  \\\n",
       "0  Action, Adventure, Thriller     163   Film       PG-13        -      Mild   \n",
       "1       Crime, Drama, Thriller      90   Film           R        -      None   \n",
       "2                 Crime, Drama     120   Film           R        -  Moderate   \n",
       "3    Action, Adventure, Sci-Fi      97   Film       PG-13        -      None   \n",
       "4     Action, Adventure, Drama     155   Film       PG-13        -      None   \n",
       "\n",
       "   Violence Profanity   Alcohol Frightening  \n",
       "0  Moderate      Mild      Mild    Moderate  \n",
       "1      None    Severe      None    Moderate  \n",
       "2    Severe    Severe  Moderate    Moderate  \n",
       "3  Moderate  Moderate      Mild    Moderate  \n",
       "4  Moderate      None      Mild    Moderate  "
      ]
     },
     "execution_count": 59,
     "metadata": {},
     "output_type": "execute_result"
    }
   ],
   "source": [
    "import pandas as pd\n",
    "import matplotlib.pyplot as plt\n",
    "df = pd.read_csv(\"imdb.csv\")\n",
    "df.head()"
   ]
  },
  {
   "cell_type": "code",
   "execution_count": 2,
   "id": "0ed66c1c",
   "metadata": {},
   "outputs": [
    {
     "data": {
      "text/plain": [
       "Name           object\n",
       "Date            int64\n",
       "Rate           object\n",
       "Votes          object\n",
       "Genre          object\n",
       "Duration       object\n",
       "Type           object\n",
       "Certificate    object\n",
       "Episodes       object\n",
       "Nudity         object\n",
       "Violence       object\n",
       "Profanity      object\n",
       "Alcohol        object\n",
       "Frightening    object\n",
       "dtype: object"
      ]
     },
     "execution_count": 2,
     "metadata": {},
     "output_type": "execute_result"
    }
   ],
   "source": [
    "df.dtypes"
   ]
  },
  {
   "cell_type": "code",
   "execution_count": 82,
   "id": "e806d8c9",
   "metadata": {},
   "outputs": [
    {
     "data": {
      "image/png": "[encoded data removed]",
      "text/plain": [
       "<Figure size 1008x576 with 1 Axes>"
      ]
     },
     "metadata": {
      "needs_background": "light"
     },
     "output_type": "display_data"
    }
   ],
   "source": [
    "df=df[df['Rate']!='No Rate']\n",
    "df['Rate']=df['Rate'].astype(float)\n",
    "Plot=df.groupby(['Genre'])['Rate'].mean().sort_values(ascending=False).head().plot.bar(title=\"Rating by Genre\", figsize=(14,8))"
   ]
  },
  {
   "cell_type": "code",
   "execution_count": null,
   "id": "7969ccde",
   "metadata": {},
   "outputs": [],
   "source": [
    "df.groupby(['Genre'])['Rate'].mean().sort_values(ascending=False).head().plot.bar(title=\"Rating by Genre\", figsize=(14,8))"
   ]
  },
  {
   "cell_type": "code",
   "execution_count": 46,
   "id": "2bddd146",
   "metadata": {},
   "outputs": [],
   "source": [
    "df_movies=df[df['Type']=='Film']"
   ]
  },
  {
   "cell_type": "code",
   "execution_count": 84,
   "id": "8614392a",
   "metadata": {},
   "outputs": [
    {
     "data": {
      "image/png": "[encoded data removed]",
      "text/plain": [
       "<Figure size 1008x576 with 1 Axes>"
      ]
     },
     "metadata": {
      "needs_background": "light"
     },
     "output_type": "display_data"
    }
   ],
   "source": [
    "Plot_2=df_movies.groupby(['Date'])['Date'].count().sort_values(ascending=False).head().plot.barh(title=\"Movie count by Year\", figsize=(14,8))"
   ]
  },
  {
   "cell_type": "code",
   "execution_count": 114,
   "id": "e38ebe67",
   "metadata": {},
   "outputs": [
    {
     "ename": "TypeError",
     "evalue": "cannot convert the series to <class 'int'>",
     "output_type": "error",
     "traceback": [
      "\u001b[1;31m---------------------------------------------------------------------------\u001b[0m",
      "\u001b[1;31mTypeError\u001b[0m                                 Traceback (most recent call last)",
      "\u001b[1;32mC:\\Users\\VRINDH~1\\AppData\\Local\\Temp/ipykernel_21124/2562301770.py\u001b[0m in \u001b[0;36m<module>\u001b[1;34m\u001b[0m\n\u001b[0;32m      1\u001b[0m \u001b[0mdf_voters\u001b[0m\u001b[1;33m=\u001b[0m\u001b[0mdf\u001b[0m\u001b[1;33m[\u001b[0m\u001b[0mdf\u001b[0m\u001b[1;33m[\u001b[0m\u001b[1;34m'Votes'\u001b[0m\u001b[1;33m]\u001b[0m\u001b[1;33m!=\u001b[0m\u001b[1;34m'No Votes'\u001b[0m\u001b[1;33m]\u001b[0m\u001b[1;33m\u001b[0m\u001b[1;33m\u001b[0m\u001b[0m\n\u001b[1;32m----> 2\u001b[1;33m \u001b[0mdf_voters\u001b[0m\u001b[1;33m[\u001b[0m\u001b[1;34m'Votes'\u001b[0m\u001b[1;33m]\u001b[0m\u001b[1;33m=\u001b[0m\u001b[0mint\u001b[0m\u001b[1;33m(\u001b[0m\u001b[0mdf_voters\u001b[0m\u001b[1;33m[\u001b[0m\u001b[1;34m'Votes'\u001b[0m\u001b[1;33m]\u001b[0m\u001b[1;33m)\u001b[0m\u001b[1;33m\u001b[0m\u001b[1;33m\u001b[0m\u001b[0m\n\u001b[0m",
      "\u001b[1;32m~\\anaconda3\\lib\\site-packages\\pandas\\core\\series.py\u001b[0m in \u001b[0;36mwrapper\u001b[1;34m(self)\u001b[0m\n\u001b[0;32m    183\u001b[0m         \u001b[1;32mif\u001b[0m \u001b[0mlen\u001b[0m\u001b[1;33m(\u001b[0m\u001b[0mself\u001b[0m\u001b[1;33m)\u001b[0m \u001b[1;33m==\u001b[0m \u001b[1;36m1\u001b[0m\u001b[1;33m:\u001b[0m\u001b[1;33m\u001b[0m\u001b[1;33m\u001b[0m\u001b[0m\n\u001b[0;32m    184\u001b[0m             \u001b[1;32mreturn\u001b[0m \u001b[0mconverter\u001b[0m\u001b[1;33m(\u001b[0m\u001b[0mself\u001b[0m\u001b[1;33m.\u001b[0m\u001b[0miloc\u001b[0m\u001b[1;33m[\u001b[0m\u001b[1;36m0\u001b[0m\u001b[1;33m]\u001b[0m\u001b[1;33m)\u001b[0m\u001b[1;33m\u001b[0m\u001b[1;33m\u001b[0m\u001b[0m\n\u001b[1;32m--> 185\u001b[1;33m         \u001b[1;32mraise\u001b[0m \u001b[0mTypeError\u001b[0m\u001b[1;33m(\u001b[0m\u001b[1;34mf\"cannot convert the series to {converter}\"\u001b[0m\u001b[1;33m)\u001b[0m\u001b[1;33m\u001b[0m\u001b[1;33m\u001b[0m\u001b[0m\n\u001b[0m\u001b[0;32m    186\u001b[0m \u001b[1;33m\u001b[0m\u001b[0m\n\u001b[0;32m    187\u001b[0m     \u001b[0mwrapper\u001b[0m\u001b[1;33m.\u001b[0m\u001b[0m__name__\u001b[0m \u001b[1;33m=\u001b[0m \u001b[1;34mf\"__{converter.__name__}__\"\u001b[0m\u001b[1;33m\u001b[0m\u001b[1;33m\u001b[0m\u001b[0m\n",
      "\u001b[1;31mTypeError\u001b[0m: cannot convert the series to <class 'int'>"
     ]
    }
   ],
   "source": [
    "df_voters=df[df['Votes']!='No Votes']\n",
    "df_voters['Votes']=int(df_voters['Votes'])\n"
   ]
  },
  {
   "cell_type": "code",
   "execution_count": 126,
   "id": "7900e8c6",
   "metadata": {},
   "outputs": [
    {
     "data": {
      "image/png": "[encoded data removed]",
      "text/plain": [
       "<Figure size 1008x864 with 1 Axes>"
      ]
     },
     "metadata": {
      "needs_background": "light"
     },
     "output_type": "display_data"
    }
   ],
   "source": [
    "Plot=df[(df['Date']>2010)&(df['Date']<2021)].groupby(['Date'])['Rate'].mean().sort_values(ascending=True).plot.barh(title=\"Rating by Year\", figsize=(14,12))"
   ]
  },
  {
   "cell_type": "code",
   "execution_count": null,
   "id": "03bb09a8",
   "metadata": {},
   "outputs": [],
   "source": []
  },
  {
   "cell_type": "code",
   "execution_count": 87,
   "id": "6d202a1a",
   "metadata": {},
   "outputs": [],
   "source": [
    "df_rating=df.groupby(['Date'])['Rate'].mean()"
   ]
  },
  {
   "cell_type": "code",
   "execution_count": null,
   "id": "7504d8fa",
   "metadata": {},
   "outputs": [],
   "source": []
  },
  {
   "cell_type": "code",
   "execution_count": null,
   "id": "87d0b828",
   "metadata": {},
   "outputs": [],
   "source": []
  },
  {
   "cell_type": "code",
   "execution_count": null,
   "id": "cdcb16eb",
   "metadata": {},
   "outputs": [],
   "source": []
  },
  {
   "cell_type": "code",
   "execution_count": null,
   "id": "b99f3bfe",
   "metadata": {},
   "outputs": [],
   "source": []
  }
 ],
 "metadata": {
  "kernelspec": {
   "display_name": "Python 3 (ipykernel)",
   "language": "python",
   "name": "python3"
  },
  "language_info": {
   "codemirror_mode": {
    "name": "ipython",
    "version": 3
   },
   "file_extension": ".py",
   "mimetype": "text/x-python",
   "name": "python",
   "nbconvert_exporter": "python",
   "pygments_lexer": "ipython3",
   "version": "3.9.7"
  }
 },
 "nbformat": 4,
 "nbformat_minor": 5
}
